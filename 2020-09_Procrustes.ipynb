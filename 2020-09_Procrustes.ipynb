{
 "cells": [
  {
   "cell_type": "markdown",
   "metadata": {},
   "source": [
    "## Procrustes analysis: Comparing community and AMR gene abundances across farm cohort\n",
    "This notebook is tracking my data exploration steps to assess how profile antimicrobial resistance (AMR) gene abundances and community structure in stored dairy manure are related across a cohort of dairy farms. \n",
    "\n",
    "My aims are to perform Procrustes analysis on reduced count data. Here I explore different data reduction tools to evaluate the robustness of the results to the different assumptions embedded in data reduction and build a data-visualization tool.\n",
    "\n",
    "Once the methods are ironed out, I will convert the code chunks into user-friendly command line tools to facilitate reproduciblity of the workflow. \n",
    "\n",
    "This work was advised in part by Kerby Shedden, Phd. (UM Dept. of Statistics)"
   ]
  },
  {
   "cell_type": "code",
   "execution_count": 1,
   "metadata": {},
   "outputs": [
    {
     "name": "stdout",
     "output_type": "stream",
     "text": [
      "The history saving thread hit an unexpected error (DatabaseError('database disk image is malformed')).History will not be written to the database.\n"
     ]
    }
   ],
   "source": [
    "import matplotlib.pyplot as plt\n",
    "import numpy as np\n",
    "import pandas as pd\n",
    "from scipy.spatial import procrustes, distance\n",
    "from scipy import stats\n",
    "from sklearn.decomposition import PCA\n",
    "from skbio.diversity import alpha_diversity\n",
    "from skbio.diversity import beta_diversity\n",
    "from sklearn import manifold\n",
    "import matplotlib.patches as mpatches\n",
    "\n",
    "# In-house Python scripts\n",
    "from summarize_taxa import summarize_taxa\n",
    "from MDS_hellinger import perform_mds"
   ]
  },
  {
   "cell_type": "markdown",
   "metadata": {},
   "source": [
    "### Load and summarize phyloflash results at different taxon levels\n",
    "This analysis starts with raw count data from programs that assign metagenomic reads to sequences to predict the species and resistance gene compositions. The outputs from each sample were concatonated with a script in my utils folder."
   ]
  },
  {
   "cell_type": "code",
   "execution_count": 2,
   "metadata": {},
   "outputs": [],
   "source": [
    "# Set file paths to relevant data\n",
    "amrplus = \"Final_AMR-NTU_Data/AMRplusplus_raw.tsv\"\n",
    "phylo = \"Final_AMR-NTU_Data/phylo2020.tsv\"\n",
    "\n",
    "# Metadata I curated by hand in Microsoft Excel\n",
    "meta = \"Final_AMR-NTU_Data/transposed.csv\""
   ]
  },
  {
   "cell_type": "code",
   "execution_count": 3,
   "metadata": {},
   "outputs": [],
   "source": [
    "# Load the relevant datasets\n",
    "amrplus_raw = pd.read_csv(amrplus, delimiter=\"\\t\")\n",
    "phylo_raw = pd.read_csv(phylo, delimiter=\"\\t\")\n",
    "meta_data = pd.read_csv(meta)\n",
    "meta_data = meta_data.set_index(\"meta\")"
   ]
  },
  {
   "cell_type": "code",
   "execution_count": 4,
   "metadata": {},
   "outputs": [],
   "source": [
    "# Summarize at the OTUs Family-level to reduce species-level noise\n",
    "taxa_column = ['domain','phylum','class','order','family','genus','species']\n",
    "delimeter = \";\"\n",
    "df = phylo_raw\n",
    "taxa_level = 5 #family-level\n",
    "taxa_header = 'OTU'\n",
    "count_header = 'est_counts'\n",
    "\n",
    "phylo_fam = summarize_taxa(df, count_header, taxa_header, taxa_column, delimeter, taxa_level)"
   ]
  },
  {
   "cell_type": "markdown",
   "metadata": {},
   "source": [
    "### Automate as python script\n",
    "Clearly, the next couple steps could be automated into a python script to faciliate switching imput data and observing the outomces of procrustes. Given parameters would be the headers of the data matrix. Then the user can just run the data reduction on with a command like `perform_mds(dr_formatted(df))` where df_formated is the combined steps of pivoting data to wide form and taking the given transformation.\n",
    "\n",
    "#### Psuedocode:\n",
    "\n",
    "dr_formatted(df, headers, transform)\n",
    "\n",
    "\"\"\"\n",
    "    Pre-processing raw count data for dimensional reduction\n",
    "\n",
    "    Args:\n",
    "    df        : long form dataset of samples from program like phyloflash or GROOT\n",
    "    headers   : list of strings containing column headers\n",
    "    transform : log or square root\n",
    "\n",
    "    Returns:\n",
    "    df_DR : dataframe ready for dimensional reduction\n",
    "    \n",
    "    Psuedocode:\n",
    "    \n",
    "    pd.pivot(df, columns, index, values)\n",
    "    \"\"\""
   ]
  },
  {
   "cell_type": "code",
   "execution_count": 5,
   "metadata": {},
   "outputs": [],
   "source": [
    "# Make the data wide-form\n",
    "OTU_rw = pd.pivot(phylo_fam, columns=\"sid\", index=\"OTU\", values=\"est_counts\")\n",
    "AMR_rw = pd.pivot(amrplus_raw, columns=\"sid\", index=\"AMR\", values=\"est_counts\")\n",
    "# AMR_rw = pd.pivot(amrplus_raw[['OTU', 'sid', 'est_counts']], columns=\"sid\", index=\"OTU\", values=\"est_counts\")"
   ]
  },
  {
   "cell_type": "markdown",
   "metadata": {},
   "source": [
    "### Procrustes Analysis\n",
    "Currently I am comparing how similar the OTU (family level) and ARG (AMR++, MEGARes Lab) relative abundances compare across samples. To ensure this approach in meaningful, I am taking a step back, thinking about our abundance estimates, and reviewing different dimensional reduction techniques. I will stick to looking at relative abundances. Other scaling techniques can introduce bias. We are interested if the *composition* of the communities and ARGs have similar patterns across farms and AD/non-AD groups. \n",
    "\n",
    "**Aims:**\n",
    "1. Perform analysis using different taxonomic level summaries of community structure\n",
    "2. Compare different DR techniques \\\n",
    "    a. Bray-Curtis MDS \\\n",
    "    b. Jaccard Distance MDS \\\n",
    "    c. Pairwise-Hellinger distance MDS \\\n",
    "    d. PCA"
   ]
  },
  {
   "cell_type": "code",
   "execution_count": 6,
   "metadata": {},
   "outputs": [],
   "source": [
    "## This script was modified from an alignment-based hamming distance tool from Bioinf 529.\n",
    "\n",
    "def build_distance_matrix(df, dist_metric): \n",
    "    ''' Function to build a distance matrix from a matrix of counts\n",
    "    \n",
    "    Args: \n",
    "        df       : numeric array of count data. \n",
    "                   Columns are samples and rows are different organisms or genes\n",
    "        distance : metric to use (bray-curtis, hellinger, jaccard)\n",
    "\n",
    "    Returns:\n",
    "        distance_matrix (np.array of floats): n x n distance matrix\n",
    "    \n",
    "    '''\n",
    "         \n",
    "    n = df.shape[1]\n",
    "    \n",
    "    #Initialize an empty matrix of floats\n",
    "    distance_matrix = np.zeros((n, n), dtype=float)\n",
    "    \n",
    "    #Compare all of the alignments and store their distances\n",
    "    if dist_metric == \"BC\":\n",
    "        for i, sample1 in enumerate(df.columns):\n",
    "            for j, sample2 in enumerate(df.columns):\n",
    "                distance_matrix[i][j] = distance.braycurtis(df[sample1], df[sample2])\n",
    "    \n",
    "    #Compare all of the alignments and store their distances\n",
    "    if dist_metric == \"J\":\n",
    "        for i, sample1 in enumerate(df.columns):\n",
    "            for j, sample2 in enumerate(df.columns):\n",
    "                distance_matrix[i][j] = distance.jaccard(df[sample1], df[sample2])   \n",
    "\n",
    "    # Pairwise Hellinger distances\n",
    "    if dist_metric == \"PH\": \n",
    "        \n",
    "        # Convert to relative abundance\n",
    "        df = df.transpose()\n",
    "        tot = df.sum(1)\n",
    "        df = df.divide(tot, axis=0)\n",
    "\n",
    "        # Sort the columns in descending abundance order\n",
    "        ii = np.argsort(df.sum(0))\n",
    "        df = df.iloc[:, ii[::-1]]\n",
    "        dq = np.sqrt(np.asarray(df))\n",
    "        for i in range(n):\n",
    "            for j in range(i):\n",
    "                d = np.sum((dq[i, :] - dq[j, :])**2)\n",
    "                d = np.sqrt(d) / np.sqrt(2)\n",
    "                distance_matrix[i, j] = d\n",
    "                distance_matrix[j, i] = d\n",
    "        distance_matrix = pd.DataFrame(distance_matrix)\n",
    "    \n",
    "    return distance_matrix"
   ]
  },
  {
   "cell_type": "markdown",
   "metadata": {},
   "source": [
    "## Data reduction with MDS\n",
    "MDS is run using the sklearn manifold which runs the SMACOF (Scaling by MAjorizing a COmplicated Function) algorithm. For more robust analysis, change the n_init to a higher value to increase the number of initial start configurations at the cost of computational time. "
   ]
  },
  {
   "cell_type": "code",
   "execution_count": 7,
   "metadata": {},
   "outputs": [
    {
     "data": {
      "text/plain": [
       "0.3866444016043703"
      ]
     },
     "execution_count": 7,
     "metadata": {},
     "output_type": "execute_result"
    }
   ],
   "source": [
    "# MDS with specified distance metric\n",
    "metric = \"BC\"\n",
    "\n",
    "OTU_bc = build_distance_matrix(np.sqrt(OTU_rw.fillna(0)), metric)\n",
    "AMR_bc = build_distance_matrix(np.sqrt(AMR_rw.fillna(0)), metric)\n",
    "\n",
    "mds = manifold.MDS(n_components=2, dissimilarity='precomputed', n_init=100)\n",
    "pos_otu = mds.fit(OTU_bc).embedding_\n",
    "pos_amr = mds.fit(AMR_bc).embedding_\n",
    "\n",
    "pos_otu\n",
    "\n",
    "mtx1, mtx2, disparity = procrustes(pos_otu,pos_amr)\n",
    "disparity"
   ]
  },
  {
   "cell_type": "code",
   "execution_count": 8,
   "metadata": {},
   "outputs": [
    {
     "data": {
      "image/png": "[encoded data removed]",
      "text/plain": [
       "<Figure size 432x288 with 1 Axes>"
      ]
     },
     "metadata": {
      "needs_background": "light"
     },
     "output_type": "display_data"
    }
   ],
   "source": [
    "# Need to turn this into a function to run after dimensional Reduction\n",
    "otu_pts = pd.DataFrame(mtx1,columns=[\"x\",\"y\"])\n",
    "amr_pts = pd.DataFrame(mtx2,columns=[\"x\",\"y\"])\n",
    "\n",
    "otu_pts['source'] = 'OTU'\n",
    "amr_pts['source'] = 'ARG'\n",
    "\n",
    "# If statement with AD to plot shape too\n",
    "plt.scatter(x=otu_pts['x'], y=otu_pts['y'], color = \"blue\", label = \"Storage only, OTUs\")\n",
    "plt.scatter(x=amr_pts['x'], y=amr_pts['y'], color = \"red\", label = \"Storage only, AMR Genes\")\n",
    "\n",
    "sid_list14 = [\"MW1\",\"MW2\",'MW3',\"MW4\",\"MW4\",\"MA1\",\"NE1\",\"NE2\",\"NE2\",\"NE3\",\"NE3\",\"NE4\",\"MA2\",\"MA3\",\"MW5\"]\n",
    "\n",
    "for i in range(len(otu_pts)):\n",
    "    plt.plot([otu_pts['x'][i], amr_pts['x'][i]], [otu_pts['y'][i], amr_pts['y'][i]], 'k-', lw=1)\n",
    "    # can add an if statement (if y_otu > y_amr, plot above or below the given coordinate)\n",
    "    plt.text(otu_pts['x'][i]-0.02, otu_pts['y'][i] + 0.025, sid_list14[i])\n",
    "    \n",
    "    if int(meta_data.iloc[0,][i]) == 0:\n",
    "        plt.scatter(otu_pts['x'][i], otu_pts['y'][i], marker='^', s = 125, c = \"blue\", label = \"AD Farm, OTUs\")\n",
    "        plt.scatter(amr_pts['x'][i], amr_pts['y'][i], marker='^', s = 125, c = \"red\", label = \"AD Farm, AMR Genes\")\n",
    "\n",
    "plt.xlabel(\"MDS Axis 1\")\n",
    "plt.ylabel(\"MDS Axis 2\")\n",
    "\n",
    "red_patch = mpatches.Patch(color='red')\n",
    "blue_patch = mpatches.Patch(color='blue')\n",
    "\n",
    "# Currently struggling with effective way to let matplot lib build legend\n",
    "# plt.legend()\n",
    "# plt.legend([red_patch, blue_patch, triangle], ['AMR gene Composition', 'OTU Composition', \"AD\"])\n",
    "\n",
    "# plt.savefig(\"2020-09_procrustes.png\", dpi=100, bbox_inches='tight', pad_inches=0.5)"
   ]
  },
  {
   "cell_type": "markdown",
   "metadata": {},
   "source": [
    "## _Scratch work below_"
   ]
  },
  {
   "cell_type": "code",
   "execution_count": null,
   "metadata": {},
   "outputs": [],
   "source": [
    "# for i in range(len(otu_pts)):\n",
    "#     if int(meta_data.iloc[0,][i]) == 0:\n",
    "#         print(sid_list14[i],\"has AD\")\n",
    "\n",
    "area = (30 * np.random.rand(5))**2 \n",
    "area\n",
    "# int(meta_data.iloc[0,][4])"
   ]
  },
  {
   "cell_type": "code",
   "execution_count": null,
   "metadata": {},
   "outputs": [],
   "source": [
    "# Jaccard \n",
    "OTU_bc = build_distance_matrix(np.sqrt(OTU_rw.fillna(0)), \"J\")\n",
    "AMR_bc = build_distance_matrix(np.sqrt(AMR_rw.fillna(0)), \"J\")\n",
    "\n",
    "mds = manifold.MDS(n_components=2, dissimilarity='precomputed')\n",
    "pos_otu = mds.fit(OTU_bc).embedding_\n",
    "pos_amr = mds.fit(AMR_bc).embedding_\n",
    "\n",
    "mtx1, mtx2, disparity = procrustes(pos_otu,pos_amr)\n",
    "disparity\n",
    "\n",
    "# Ew, this looks horrible. Jaccard is based on presence absense\n",
    "# I need to take a closer look at the nature of the AMR and OTU to determine\n",
    "# If there are different magnitudes of presence absence. "
   ]
  },
  {
   "cell_type": "code",
   "execution_count": null,
   "metadata": {},
   "outputs": [],
   "source": [
    "# Procrustes Analysis with MDS and pairwise Hellinger distance\n",
    "\n",
    "pos = perform_mds(np.sqrt(OTU_rw.transpose().fillna(0)))\n",
    "pos_amr = perform_mds(np.sqrt(AMR_rw.transpose().fillna(0)))\n",
    "\n",
    "pos[0]\n",
    "\n",
    "mtx1, mtx2, disparity = procrustes(pos[0],pos_amr[0])\n",
    "disparity"
   ]
  },
  {
   "cell_type": "code",
   "execution_count": null,
   "metadata": {},
   "outputs": [],
   "source": [
    "# PCA as dimensional reduction\n"
   ]
  },
  {
   "cell_type": "markdown",
   "metadata": {},
   "source": [
    "## Variance stabilization \n",
    "\n",
    "Do we have a mean-variance relationship in our datasets? This is a common issue with high through-put count data. We can visualize by plotting mean vs variance of each column in each matrix (NTU family, NTU class, GROOT, AMR++). What I find below is that the log transformation, which is an approximation of the relative variance stabilization, does not seem to reduce the mean-variance relationship. \n",
    "\n",
    "**Sources:**\n",
    "- https://en.wikipedia.org/wiki/Variance-stabilizing_transformation\n",
    "- https://journals.plos.org/ploscompbiol/article?id=10.1371/journal.pcbi.1006907"
   ]
  },
  {
   "cell_type": "code",
   "execution_count": null,
   "metadata": {},
   "outputs": [],
   "source": [
    "# Compute means and variance of each column\n",
    "# x = np.mean(np.sqrt(AMR_rw.fillna(0)+1))\n",
    "# y = np.var(np.sqrt(AMR_rw.fillna(0)+1))\n",
    "\n",
    "x = np.mean(np.log(OTU_rw.fillna(0)+1))\n",
    "y = np.var(np.log(OTU_rw.fillna(0)+1))\n",
    "\n",
    "plt.scatter(x,y)\n",
    "\n",
    "# The log transformation is better at reducing the mean-variance relationship. \n",
    "# https://en.wikipedia.org/wiki/Variance-stabilizing_transformation"
   ]
  }
 ],
 "metadata": {
  "kernelspec": {
   "display_name": "Python 3",
   "language": "python",
   "name": "python3"
  },
  "language_info": {
   "codemirror_mode": {
    "name": "ipython",
    "version": 3
   },
   "file_extension": ".py",
   "mimetype": "text/x-python",
   "name": "python",
   "nbconvert_exporter": "python",
   "pygments_lexer": "ipython3",
   "version": "3.7.6"
  }
 },
 "nbformat": 4,
 "nbformat_minor": 4
}
